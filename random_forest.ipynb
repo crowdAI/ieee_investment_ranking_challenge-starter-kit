{
 "cells": [
  {
   "cell_type": "code",
   "execution_count": 1,
   "metadata": {},
   "outputs": [],
   "source": [
    "import base64\n",
    "import pandas as pd\n",
    "import numpy as np\n",
    "import seaborn as sns\n",
    "import matplotlib.pyplot as plt\n",
    "import scipy.stats as stat\n",
    "\n",
    "from sklearn.ensemble import RandomForestRegressor\n",
    "\n",
    "pd.options.mode.chained_assignment = None"
   ]
  },
  {
   "cell_type": "markdown",
   "metadata": {},
   "source": [
    "\n",
    "# IEEE Investment Ranking Challenge Starter Kit\n",
    "\n",
    "This code contains a starter kit with examples of how to read in the data, perform some basic manipulation, and run a Random Forest model on each time period.\n",
    "\n",
    "### Read Challenge Data and the Prediction Template\n",
    "**Note**: This step assumes that you have downloaded the datasets from the [Datasets Page](https://www.crowdai.org/challenges/ieee-investment-ranking-challenge/dataset_files) and download the `Full Dataset` file and saved it inside the `data/` folder as `full_dataset.csv`; and then also download the `Prediction Template` file and saved it inside the `data/` folder as `prediction_template.csv`."
   ]
  },
  {
   "cell_type": "code",
   "execution_count": 2,
   "metadata": {},
   "outputs": [],
   "source": [
    "dataset_file_path = \"data/full_dataset.csv\"\n",
    "pred_template_file_path = \"data/prediction_template.csv\"\n",
    "\n",
    "\n",
    "# dataset_file_path = \"YOUR_DATASET_FILE_PATH_HERE\"\n",
    "# pred_template_file_path = \"YOUR_PREDICTION_TEMPLATE_FILE_PATH_HERE\"\n",
    "\n",
    "data = pd.read_csv(dataset_file_path)\n",
    "pred_template = pd.read_csv(pred_template_file_path)"
   ]
  },
  {
   "cell_type": "markdown",
   "metadata": {},
   "source": [
    "### Sample EDA"
   ]
  },
  {
   "cell_type": "code",
   "execution_count": 3,
   "metadata": {},
   "outputs": [
    {
     "data": {
      "image/png": "[encoded data removed]",
      "text/plain": [
       "<matplotlib.figure.Figure at 0x111b40a90>"
      ]
     },
     "metadata": {},
     "output_type": "display_data"
    }
   ],
   "source": [
    "#create index to subset data from one time_period\n",
    "index = data['time_period'] == '1996_2'\n",
    "\n",
    "# View distribution of returns for first time_period\n",
    "hist_1996_2 = sns.distplot(data.loc[index,'Norm_Ret_F6M'])\n",
    "plt.show()"
   ]
  },
  {
   "cell_type": "markdown",
   "metadata": {},
   "source": [
    "## Example Feature Engineering\n",
    "\n",
    "Each unique variable is broken up into **6 non-overlapping observations** in each time period\n",
    "For example `X1` has six monthly observations in each period represented as `X1_1`, `X1_2`,...,`X1_6`\n",
    "\n",
    "To make it easier to model, this code will average the values within each `time_period`"
   ]
  },
  {
   "cell_type": "code",
   "execution_count": 4,
   "metadata": {},
   "outputs": [],
   "source": [
    "#create list to iterate over\n",
    "variable_list = [\"X\" + str(i) + '_' for i in range(1,71)]\n",
    "        \n",
    "for var in variable_list:\n",
    "    data[var + 'avg'] = data.filter(regex=(var)).mean(axis = 1)\n",
    "\n",
    "# create a new feature that is the percentile of each variable average rather than the raw value\n",
    "# this is a common way to model the data as you are predicting stock performance relative to peers \n",
    "# using attributes that are also relative to peers\n",
    "\n",
    "for var in variable_list:\n",
    "    data[var + 'avg' + '_pctile'] = stat.rankdata(data[var + 'avg'])/data[var + 'avg'].shape[0]    "
   ]
  },
  {
   "cell_type": "markdown",
   "metadata": {},
   "source": [
    "### Subset features to use for modeling. \n",
    "Subsetting `time_period`, `index`, `Train`, `Norm_Ret_F6M`, `Rank_F6M`, and the avg and percentile variables we created using  a regex filter for 'avg' to get both the avg and percentile columns only."
   ]
  },
  {
   "cell_type": "code",
   "execution_count": 5,
   "metadata": {},
   "outputs": [],
   "source": [
    "model_data = pd.concat([data.iloc[:,0:5],data.filter(regex = ('avg'))],axis=1)"
   ]
  },
  {
   "cell_type": "markdown",
   "metadata": {},
   "source": [
    "### Create function for imputation and Random Forest"
   ]
  },
  {
   "cell_type": "code",
   "execution_count": 6,
   "metadata": {},
   "outputs": [],
   "source": [
    "time_periods = np.unique(model_data['time_period'],return_index=True)[0]\n",
    "time_periods_index = np.unique(model_data['time_period'],return_index=True)[1]\n",
    "\n",
    "def randomForest(train_start_period,prediction_period):\n",
    "\n",
    "    train_window_start = time_periods_index[time_periods == train_start_period][0]\n",
    "    train_window_end = time_periods_index[time_periods == prediction_period][0]\n",
    "    \n",
    "    rf_model_data = model_data.iloc[range(train_window_start,train_window_end),:]\n",
    "    \n",
    "    rf_model_data.fillna(0,inplace = True)\n",
    "    \n",
    "    rf = RandomForestRegressor(n_estimators=1,verbose = 2,oob_score=True, max_features = 10)\n",
    "    \n",
    "    # fit using training data only (Train == 1)\n",
    "    rf.fit(rf_model_data.loc[rf_model_data['Train'] == 1,'X1_avg':'X70_avg_pctile'], rf_model_data.loc[rf_model_data['Train'] == 1,'Norm_Ret_F6M'])\n",
    "    \n",
    "    return(rf)"
   ]
  },
  {
   "cell_type": "markdown",
   "metadata": {},
   "source": [
    "### Create function for calculating spearman correlation and Normalized Discounted Cumulative Gain\n",
    "**Note** : This function was incorrectly calculating NDCG as of the challenge launch. This was fixed 03/28. For details and questions, join the discussion [here.](https://www.crowdai.org/topics/notice-error-in-ndcg-calculation-in-evaluation-script/discussion)"
   ]
  },
  {
   "cell_type": "code",
   "execution_count": 7,
   "metadata": {},
   "outputs": [],
   "source": [
    "def calc_metrics(time_period, predicted_rank):\n",
    "    \n",
    "    #subset actual values for prediction time_period\n",
    "    actuals = model_data.loc[(model_data['time_period'] == time_period) & (model_data['Train'] == 1),:]\n",
    "    \n",
    "    #join predictions onto actuals\n",
    "    actuals['Rank_F6M_pred'] = predicted_rank\n",
    "    \n",
    "    #calculate spearman correlation\n",
    "    spearman = stat.spearmanr(actuals['Rank_F6M'],actuals['Rank_F6M_pred'])[0]\n",
    "    \n",
    "    # calculate NDCG = DCG of Top 20% / Ideal DCG of Top 20%\n",
    "    # subset top 20% predictions\n",
    "    t20 = actuals.loc[actuals['Rank_F6M_pred'] <= np.nanpercentile(actuals['Rank_F6M_pred'],20),:]\n",
    "    t20['discount'] = np.amax(actuals['Rank_F6M_pred'])/(np.amax(actuals['Rank_F6M_pred'])+actuals['Rank_F6M_pred'])\n",
    "    t20['gain'] = t20['Norm_Ret_F6M']*t20['discount']\n",
    "    DCG = np.sum(t20['gain'])\n",
    "    \n",
    "    #subset top 20% actuals\n",
    "    i20 = actuals.loc[actuals['Rank_F6M'] <= np.nanpercentile(actuals['Rank_F6M'],20),:]\n",
    "    i20['discount'] = np.amax(actuals['Rank_F6M'])/(np.amax(actuals['Rank_F6M'])+actuals['Rank_F6M'])\n",
    "    i20['gain'] = i20['Norm_Ret_F6M']*i20['discount']\n",
    "    IDCG = np.sum(i20['gain'])\n",
    "    \n",
    "    NDCG = DCG/IDCG\n",
    "    \n",
    "    # return time_period, spearman correlation, NDCG\n",
    "    return(pd.DataFrame([(time_period,spearman,NDCG)],columns = ['time_period','spearman','NDCG']))"
   ]
  },
  {
   "cell_type": "markdown",
   "metadata": {},
   "source": [
    "### Random forest model on warm-up period"
   ]
  },
  {
   "cell_type": "code",
   "execution_count": 8,
   "metadata": {},
   "outputs": [
    {
     "name": "stdout",
     "output_type": "stream",
     "text": [
      "building tree 1 of 1\n"
     ]
    },
    {
     "name": "stderr",
     "output_type": "stream",
     "text": [
      "[Parallel(n_jobs=1)]: Done   1 out of   1 | elapsed:    0.1s remaining:    0.0s\n",
      "[Parallel(n_jobs=1)]: Done   1 out of   1 | elapsed:    0.1s finished\n",
      "/anaconda2/lib/python2.7/site-packages/sklearn/ensemble/forest.py:723: UserWarning: Some inputs do not have OOB scores. This probably means too few trees were used to compute any reliable oob estimates.\n",
      "  warn(\"Some inputs do not have OOB scores. \"\n"
     ]
    }
   ],
   "source": [
    "time = '2002_1'\n",
    "\n",
    "rf = randomForest(train_start_period = '1996_2', prediction_period = time)"
   ]
  },
  {
   "cell_type": "code",
   "execution_count": 9,
   "metadata": {},
   "outputs": [
    {
     "name": "stderr",
     "output_type": "stream",
     "text": [
      "[Parallel(n_jobs=1)]: Done   1 out of   1 | elapsed:    0.0s remaining:    0.0s\n",
      "[Parallel(n_jobs=1)]: Done   1 out of   1 | elapsed:    0.0s finished\n"
     ]
    },
    {
     "data": {
      "image/png": "[encoded data removed]",
      "text/plain": [
       "<matplotlib.figure.Figure at 0x111b164d0>"
      ]
     },
     "metadata": {},
     "output_type": "display_data"
    },
    {
     "name": "stdout",
     "output_type": "stream",
     "text": [
      "-0.27297799042174975\n"
     ]
    }
   ],
   "source": [
    "model_data.fillna(0,inplace = True)\n",
    "predictions = rf.predict(model_data.loc[model_data['time_period'] == time,'X1_avg':'X70_avg_pctile'])\n",
    "\n",
    "# view prediction histogram\n",
    "pred_hist = sns.distplot(predictions)\n",
    "plt.show()\n",
    "\n",
    "# print Out-of-bag R^2\n",
    "print(rf.oob_score_)"
   ]
  },
  {
   "cell_type": "markdown",
   "metadata": {},
   "source": [
    "## Expanding window procedure\n",
    "Expanding window = Train model up to time `t` to predict on all observations at time `t+1`   \n",
    "* Show results on training data    \n",
    "* Add test predictions to prediction template"
   ]
  },
  {
   "cell_type": "code",
   "execution_count": null,
   "metadata": {
    "scrolled": true
   },
   "outputs": [],
   "source": [
    "model_data.fillna(0,inplace = True)\n",
    "train_results = pd.DataFrame(columns=['time_period','spearman','NDCG'])\n",
    "\n",
    "for time in time_periods[11:]:\n",
    "    rf = randomForest(train_start_period = '1996_2', prediction_period = time)\n",
    "    \n",
    "    if(time != '2017_1'):\n",
    "        train_predictions = rf.predict(model_data.loc[(model_data['time_period'] == time) & (model_data['Train'] == 1),'X1_avg':'X70_avg_pctile'])\n",
    "        train_rank_predictions = len(train_predictions) - stat.rankdata(train_predictions,method='ordinal').astype(int) + 1\n",
    "    \n",
    "        train_results = train_results.append(calc_metrics(time_period = time, predicted_rank = train_rank_predictions))\n",
    "        \n",
    "    test_predictions = rf.predict(model_data.loc[(model_data['time_period'] == time) & (model_data['Train'] == 0),'X1_avg':'X70_avg_pctile'])\n",
    "    test_rank_predictions = len(test_predictions) - stat.rankdata(test_predictions,method='ordinal').astype(int) + 1\n",
    "    pred_template.loc[pred_template['time_period'] == time,'Rank_F6M'] = test_rank_predictions\n",
    "    \n",
    "    print(\"Time period \" + time + \" completed.\")\n",
    "\n",
    "print(train_results)"
   ]
  },
  {
   "cell_type": "markdown",
   "metadata": {},
   "source": [
    "### Write csv of test set predictions"
   ]
  },
  {
   "cell_type": "code",
   "execution_count": 13,
   "metadata": {},
   "outputs": [],
   "source": [
    "pred_template.to_csv('rf_starter_kit_predictions.csv')"
   ]
  },
  {
   "cell_type": "markdown",
   "metadata": {},
   "source": [
    "## Submit to crowdAI"
   ]
  },
  {
   "cell_type": "code",
   "execution_count": 15,
   "metadata": {},
   "outputs": [],
   "source": [
    "import crowdai\n",
    "import sys"
   ]
  },
  {
   "cell_type": "code",
   "execution_count": null,
   "metadata": {},
   "outputs": [],
   "source": [
    "api_key = \"YOUR CROWDAI API KEY HERE\"\n",
    "encoded_api_key = \"WU9VUiBDUk9XREFJIEFQSSBLRVkgSEVSRQ==\"\n",
    "\n",
    "if sys.version_info[0] == 3:\n",
    "    api_key = api_key.encode()\n",
    "    encoded_api_key = b\"WU9VUiBDUk9XREFJIEFQSSBLRVkgSEVSRQ==\"\n",
    "\n",
    "if base64.b64encode(api_key) == encoded_api_key:\n",
    "    raise Exception(\"Please include your own API Key from : https://www.crowdai.org/participants/<your-crowdai-username>\")\n",
    "\n",
    "challenge = crowdai.Challenge(\"IEEEInvestmentRankingChallenge\", api_key)\n",
    "result = challenge.submit(\"rf_starter_kit_predictions.csv\", round=2)\n",
    "print(result)\n"
   ]
  },
  {
   "cell_type": "code",
   "execution_count": null,
   "metadata": {},
   "outputs": [],
   "source": []
  }
 ],
 "metadata": {
  "kernelspec": {
   "display_name": "Python 2",
   "language": "python",
   "name": "python2"
  },
  "language_info": {
   "codemirror_mode": {
    "name": "ipython",
    "version": 2
   },
   "file_extension": ".py",
   "mimetype": "text/x-python",
   "name": "python",
   "nbconvert_exporter": "python",
   "pygments_lexer": "ipython2",
   "version": "2.7.14"
  }
 },
 "nbformat": 4,
 "nbformat_minor": 2
}
